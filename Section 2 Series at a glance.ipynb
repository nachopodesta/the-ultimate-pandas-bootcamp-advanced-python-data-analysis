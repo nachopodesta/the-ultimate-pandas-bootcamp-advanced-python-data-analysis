{
 "cells": [
  {
   "cell_type": "markdown",
   "id": "99df5ad6-618d-4934-bfb1-a6156861bafc",
   "metadata": {},
   "source": [
    "## 10. What is a Series? "
   ]
  },
  {
   "cell_type": "code",
   "execution_count": 1,
   "id": "ba2aeaf5-31a5-4dd9-921c-f4a77db3bfa8",
   "metadata": {},
   "outputs": [],
   "source": [
    "import pandas as pd"
   ]
  },
  {
   "cell_type": "code",
   "execution_count": 2,
   "id": "6bbfe080-5a47-4b2c-a33b-f502da01cc5f",
   "metadata": {},
   "outputs": [
    {
     "data": {
      "text/plain": [
       "list"
      ]
     },
     "execution_count": 2,
     "metadata": {},
     "output_type": "execute_result"
    }
   ],
   "source": [
    "students = ['Nacho', 'Juan', 'Nicolas']\n",
    "type(students)"
   ]
  },
  {
   "cell_type": "code",
   "execution_count": 3,
   "id": "6a18cc03-da12-43e3-af94-a0387c92677e",
   "metadata": {},
   "outputs": [
    {
     "data": {
      "text/plain": [
       "0      Nacho\n",
       "1       Juan\n",
       "2    Nicolas\n",
       "dtype: object"
      ]
     },
     "execution_count": 3,
     "metadata": {},
     "output_type": "execute_result"
    }
   ],
   "source": [
    "pd.Series(students)"
   ]
  },
  {
   "cell_type": "code",
   "execution_count": 4,
   "id": "63bb8e9d-9230-4abb-9de0-13a1aca4f3ae",
   "metadata": {},
   "outputs": [
    {
     "data": {
      "text/plain": [
       "list"
      ]
     },
     "execution_count": 4,
     "metadata": {},
     "output_type": "execute_result"
    }
   ],
   "source": [
    "ages = [32,35,43]\n",
    "type(ages)"
   ]
  },
  {
   "cell_type": "code",
   "execution_count": 5,
   "id": "2b17cad8-29c4-40c8-9545-911f8be6aab1",
   "metadata": {},
   "outputs": [
    {
     "data": {
      "text/plain": [
       "0    32\n",
       "1    35\n",
       "2    43\n",
       "dtype: int64"
      ]
     },
     "execution_count": 5,
     "metadata": {},
     "output_type": "execute_result"
    }
   ],
   "source": [
    "pd.Series(ages)"
   ]
  },
  {
   "cell_type": "code",
   "execution_count": 6,
   "id": "25ffe805-6e09-4c06-a8bf-eb6c500ef69f",
   "metadata": {},
   "outputs": [
    {
     "data": {
      "text/plain": [
       "list"
      ]
     },
     "execution_count": 6,
     "metadata": {},
     "output_type": "execute_result"
    }
   ],
   "source": [
    "heights = [90,89,75]\n",
    "type(heights)"
   ]
  },
  {
   "cell_type": "code",
   "execution_count": 7,
   "id": "8c5d274d-1ae1-4429-844b-5e74773d968a",
   "metadata": {},
   "outputs": [
    {
     "data": {
      "text/plain": [
       "0    90\n",
       "1    89\n",
       "2    75\n",
       "dtype: int64"
      ]
     },
     "execution_count": 7,
     "metadata": {},
     "output_type": "execute_result"
    }
   ],
   "source": [
    "pd.Series(heights)"
   ]
  },
  {
   "cell_type": "code",
   "execution_count": 8,
   "id": "d4b9b2b4-dad7-4067-8112-ef793f246182",
   "metadata": {},
   "outputs": [
    {
     "data": {
      "text/plain": [
       "list"
      ]
     },
     "execution_count": 8,
     "metadata": {},
     "output_type": "execute_result"
    }
   ],
   "source": [
    "mixed = ['Yes', True, {'mood':'100'}]\n",
    "type(mixed)"
   ]
  },
  {
   "cell_type": "code",
   "execution_count": 9,
   "id": "47d448d5-225e-46df-b868-7a57a5258c71",
   "metadata": {},
   "outputs": [
    {
     "data": {
      "text/plain": [
       "0                Yes\n",
       "1               True\n",
       "2    {'mood': '100'}\n",
       "dtype: object"
      ]
     },
     "execution_count": 9,
     "metadata": {},
     "output_type": "execute_result"
    }
   ],
   "source": [
    "pd.Series(mixed)"
   ]
  },
  {
   "cell_type": "markdown",
   "id": "c981223e-1327-4cda-851b-3bd325be85e4",
   "metadata": {},
   "source": [
    "## 11. Parameters vs Arguments"
   ]
  },
  {
   "cell_type": "code",
   "execution_count": 10,
   "id": "5a189914-5e2f-4b6a-a160-73a83e07b894",
   "metadata": {},
   "outputs": [
    {
     "data": {
      "text/plain": [
       "0      Nacho\n",
       "1       Juan\n",
       "2    Nicolas\n",
       "dtype: object"
      ]
     },
     "execution_count": 10,
     "metadata": {},
     "output_type": "execute_result"
    }
   ],
   "source": [
    "pd.Series(students)"
   ]
  },
  {
   "cell_type": "code",
   "execution_count": 11,
   "id": "91f8f8a8-cb17-4cff-b484-6550a4459b5a",
   "metadata": {},
   "outputs": [
    {
     "data": {
      "text/plain": [
       "0      Nacho\n",
       "1       Juan\n",
       "2    Nicolas\n",
       "dtype: object"
      ]
     },
     "execution_count": 11,
     "metadata": {},
     "output_type": "execute_result"
    }
   ],
   "source": [
    "pd.Series(data=students) #pd.Series(paramether=argument)"
   ]
  },
  {
   "cell_type": "code",
   "execution_count": 12,
   "id": "51416f9f-4f9d-467f-9339-5348abf7ff7a",
   "metadata": {},
   "outputs": [],
   "source": [
    "def greeting(something):\n",
    "    print(something)"
   ]
  },
  {
   "cell_type": "code",
   "execution_count": 13,
   "id": "fdb1acaa-acfb-424c-bea7-342cc3e40469",
   "metadata": {},
   "outputs": [
    {
     "name": "stdout",
     "output_type": "stream",
     "text": [
      "hello my friend\n"
     ]
    }
   ],
   "source": [
    "greeting('hello my friend')"
   ]
  },
  {
   "cell_type": "markdown",
   "id": "b5591d55-915e-42f4-a8e8-3acdc993df1e",
   "metadata": {},
   "source": [
    "## 12. What’s In The Data?"
   ]
  },
  {
   "cell_type": "code",
   "execution_count": 14,
   "id": "9b5d9dfb-0938-49c7-ac1b-2712b11dd23b",
   "metadata": {},
   "outputs": [
    {
     "data": {
      "text/plain": [
       "0                  Sapiens\n",
       "1            Martin Fierro\n",
       "2    Rebelion en la granja\n",
       "dtype: object"
      ]
     },
     "execution_count": 14,
     "metadata": {},
     "output_type": "execute_result"
    }
   ],
   "source": [
    "books_list = ['Sapiens', 'Martin Fierro', 'Rebelion en la granja']\n",
    "pd.Series(books_list)"
   ]
  },
  {
   "cell_type": "code",
   "execution_count": 15,
   "id": "31dfca9a-9143-42f5-9042-7d5e64aabd3f",
   "metadata": {},
   "outputs": [
    {
     "data": {
      "text/plain": [
       "0                  Sapiens\n",
       "1            Martin Fierro\n",
       "2    Rebelion en la granja\n",
       "dtype: object"
      ]
     },
     "execution_count": 15,
     "metadata": {},
     "output_type": "execute_result"
    }
   ],
   "source": [
    "list_s = pd.Series(books_list)\n",
    "list_s"
   ]
  },
  {
   "cell_type": "code",
   "execution_count": 16,
   "id": "012ed01d-f382-42a0-87b8-22234ce8f034",
   "metadata": {},
   "outputs": [],
   "source": [
    "books_dict = {0:'Sapiens', 1:'Martin Fierro', 2:'Rebelion en la granja'}"
   ]
  },
  {
   "cell_type": "code",
   "execution_count": 17,
   "id": "443d454e-a100-46c2-bada-3f9ef1281177",
   "metadata": {},
   "outputs": [
    {
     "data": {
      "text/plain": [
       "0                  Sapiens\n",
       "1            Martin Fierro\n",
       "2    Rebelion en la granja\n",
       "dtype: object"
      ]
     },
     "execution_count": 17,
     "metadata": {},
     "output_type": "execute_result"
    }
   ],
   "source": [
    "dict_s = pd.Series(books_dict)\n",
    "dict_s"
   ]
  },
  {
   "cell_type": "code",
   "execution_count": 18,
   "id": "63b841e4-ea78-44e0-b556-4e55cbefcab1",
   "metadata": {},
   "outputs": [
    {
     "data": {
      "text/plain": [
       "True"
      ]
     },
     "execution_count": 18,
     "metadata": {},
     "output_type": "execute_result"
    }
   ],
   "source": [
    "list_s.equals(dict_s)"
   ]
  },
  {
   "cell_type": "markdown",
   "id": "61c4ce41-defb-4140-80db-4959632ed979",
   "metadata": {},
   "source": [
    "## 13. The dtype attribute"
   ]
  },
  {
   "cell_type": "code",
   "execution_count": 19,
   "id": "2474558b-9b93-4b43-a704-1afe3c510c39",
   "metadata": {},
   "outputs": [
    {
     "data": {
      "text/plain": [
       "[32, 35, 43]"
      ]
     },
     "execution_count": 19,
     "metadata": {},
     "output_type": "execute_result"
    }
   ],
   "source": [
    "ages"
   ]
  },
  {
   "cell_type": "code",
   "execution_count": 20,
   "id": "998065eb-71e7-4f83-85fa-4019bc9eb551",
   "metadata": {},
   "outputs": [
    {
     "data": {
      "text/plain": [
       "0    32\n",
       "1    35\n",
       "2    43\n",
       "dtype: int64"
      ]
     },
     "execution_count": 20,
     "metadata": {},
     "output_type": "execute_result"
    }
   ],
   "source": [
    "pd.Series(ages)"
   ]
  },
  {
   "cell_type": "code",
   "execution_count": 21,
   "id": "a35f51a1-3b24-4ad2-aaf1-7f49c1f5766e",
   "metadata": {},
   "outputs": [
    {
     "data": {
      "text/plain": [
       "0    32.0\n",
       "1    35.0\n",
       "2    43.0\n",
       "dtype: float64"
      ]
     },
     "execution_count": 21,
     "metadata": {},
     "output_type": "execute_result"
    }
   ],
   "source": [
    "pd.Series(ages, dtype='float')"
   ]
  },
  {
   "cell_type": "code",
   "execution_count": 22,
   "id": "197f9cf0-abb8-4d6f-924c-3d0a53abf44f",
   "metadata": {},
   "outputs": [
    {
     "data": {
      "text/plain": [
       "['Nacho', 'Juan', 'Nicolas']"
      ]
     },
     "execution_count": 22,
     "metadata": {},
     "output_type": "execute_result"
    }
   ],
   "source": [
    "students"
   ]
  },
  {
   "cell_type": "code",
   "execution_count": 23,
   "id": "413893e9-35ec-428e-b0b2-321fddd8618d",
   "metadata": {},
   "outputs": [
    {
     "data": {
      "text/plain": [
       "0      Nacho\n",
       "1       Juan\n",
       "2    Nicolas\n",
       "dtype: object"
      ]
     },
     "execution_count": 23,
     "metadata": {},
     "output_type": "execute_result"
    }
   ],
   "source": [
    "names_series = pd.Series(students)\n",
    "names_series"
   ]
  },
  {
   "cell_type": "code",
   "execution_count": 24,
   "id": "d434d141-2b87-4cf9-b65d-7da2646ffb50",
   "metadata": {},
   "outputs": [
    {
     "data": {
      "text/plain": [
       "dtype('O')"
      ]
     },
     "execution_count": 24,
     "metadata": {},
     "output_type": "execute_result"
    }
   ],
   "source": [
    "names_series.dtype"
   ]
  },
  {
   "cell_type": "code",
   "execution_count": 25,
   "id": "a548e7ac-54a9-41b5-af0b-f9f94a39b5d5",
   "metadata": {},
   "outputs": [
    {
     "data": {
      "text/plain": [
       "[90, 89, 75]"
      ]
     },
     "execution_count": 25,
     "metadata": {},
     "output_type": "execute_result"
    }
   ],
   "source": [
    "heights"
   ]
  },
  {
   "cell_type": "code",
   "execution_count": 26,
   "id": "496c4068-8e9c-4ae6-9ead-f7772b2e3d35",
   "metadata": {},
   "outputs": [
    {
     "data": {
      "text/plain": [
       "0    90\n",
       "1    89\n",
       "2    75\n",
       "dtype: int64"
      ]
     },
     "execution_count": 26,
     "metadata": {},
     "output_type": "execute_result"
    }
   ],
   "source": [
    "pd.Series(heights)"
   ]
  },
  {
   "cell_type": "markdown",
   "id": "4a635c50-fb62-4eba-8071-7c7fb382a116",
   "metadata": {},
   "source": [
    "## 15. Index and rangeindex"
   ]
  },
  {
   "cell_type": "code",
   "execution_count": 27,
   "id": "ba9f0a34-a3bf-4fc3-8078-0d9c69b8519c",
   "metadata": {},
   "outputs": [
    {
     "data": {
      "text/plain": [
       "['Sapiens', 'Martin Fierro', 'Rebelion en la granja']"
      ]
     },
     "execution_count": 27,
     "metadata": {},
     "output_type": "execute_result"
    }
   ],
   "source": [
    "books_list"
   ]
  },
  {
   "cell_type": "code",
   "execution_count": 28,
   "id": "2ad975e4-eb3f-4562-a80a-be354e696398",
   "metadata": {},
   "outputs": [
    {
     "data": {
      "text/plain": [
       "0                  Sapiens\n",
       "1            Martin Fierro\n",
       "2    Rebelion en la granja\n",
       "dtype: object"
      ]
     },
     "execution_count": 28,
     "metadata": {},
     "output_type": "execute_result"
    }
   ],
   "source": [
    "list_s"
   ]
  },
  {
   "cell_type": "code",
   "execution_count": 29,
   "id": "756e3a90-cd26-4379-a6d7-9d4ca708271f",
   "metadata": {},
   "outputs": [
    {
     "data": {
      "text/plain": [
       "interesting                  Sapiens\n",
       "local                  Martin Fierro\n",
       "politics       Rebelion en la granja\n",
       "dtype: object"
      ]
     },
     "execution_count": 29,
     "metadata": {},
     "output_type": "execute_result"
    }
   ],
   "source": [
    "pd.Series(data=books_list, index=[\"interesting\", \"local\", \"politics\"])"
   ]
  },
  {
   "cell_type": "code",
   "execution_count": 30,
   "id": "dacaef67-61f1-43db-ba25-08efd7911971",
   "metadata": {},
   "outputs": [
    {
     "data": {
      "text/plain": [
       "interesting                  Sapiens\n",
       "local                  Martin Fierro\n",
       "politics       Rebelion en la granja\n",
       "dtype: object"
      ]
     },
     "execution_count": 30,
     "metadata": {},
     "output_type": "execute_result"
    }
   ],
   "source": [
    "pd.Series(books_list, [\"interesting\", \"local\", \"politics\"])"
   ]
  },
  {
   "cell_type": "code",
   "execution_count": 31,
   "id": "e66d247b-6986-4512-9868-804e3d4f0f76",
   "metadata": {},
   "outputs": [
    {
     "data": {
      "text/plain": [
       "interesting                  Sapiens\n",
       "local                  Martin Fierro\n",
       "politics       Rebelion en la granja\n",
       "dtype: object"
      ]
     },
     "execution_count": 31,
     "metadata": {},
     "output_type": "execute_result"
    }
   ],
   "source": [
    "pd.Series(data=books_list, index=[\"interesting\", \"local\", \"politics\"], dtype='object')"
   ]
  },
  {
   "cell_type": "code",
   "execution_count": 32,
   "id": "069b97b8-77a0-464c-a3e3-bac7ea965b87",
   "metadata": {},
   "outputs": [
    {
     "data": {
      "text/plain": [
       "'2.2.2'"
      ]
     },
     "execution_count": 32,
     "metadata": {},
     "output_type": "execute_result"
    }
   ],
   "source": [
    "pd.__version__"
   ]
  },
  {
   "cell_type": "code",
   "execution_count": 33,
   "id": "a61cb884-6399-4b8d-82b3-efa95b845e10",
   "metadata": {},
   "outputs": [
    {
     "data": {
      "text/plain": [
       "interesting                  Sapiens\n",
       "local                  Martin Fierro\n",
       "politics       Rebelion en la granja\n",
       "dtype: string"
      ]
     },
     "execution_count": 33,
     "metadata": {},
     "output_type": "execute_result"
    }
   ],
   "source": [
    "pd.Series(data=books_list, index=[\"interesting\", \"local\", \"politics\"], dtype='string')"
   ]
  },
  {
   "cell_type": "code",
   "execution_count": 34,
   "id": "4bfb897e-1090-4962-b4c5-928de547fc4f",
   "metadata": {},
   "outputs": [
    {
     "data": {
      "text/plain": [
       "RangeIndex(start=0, stop=3, step=1)"
      ]
     },
     "execution_count": 34,
     "metadata": {},
     "output_type": "execute_result"
    }
   ],
   "source": [
    "list_s.index"
   ]
  },
  {
   "cell_type": "code",
   "execution_count": 35,
   "id": "30d8f911-b821-4d6b-9e46-92f3c7dfe573",
   "metadata": {},
   "outputs": [
    {
     "data": {
      "text/plain": [
       "pandas.core.indexes.range.RangeIndex"
      ]
     },
     "execution_count": 35,
     "metadata": {},
     "output_type": "execute_result"
    }
   ],
   "source": [
    "type(list_s.index)"
   ]
  },
  {
   "cell_type": "code",
   "execution_count": 36,
   "id": "27b5fdc7-8672-4130-907f-16bc9489d5ea",
   "metadata": {},
   "outputs": [
    {
     "data": {
      "text/plain": [
       "RangeIndex(start=4, stop=7, step=1)"
      ]
     },
     "execution_count": 36,
     "metadata": {},
     "output_type": "execute_result"
    }
   ],
   "source": [
    "pd.RangeIndex(start=4, stop=7, step=1)"
   ]
  },
  {
   "cell_type": "code",
   "execution_count": 37,
   "id": "d6921a57-3259-4084-8849-29a2c5c8111e",
   "metadata": {},
   "outputs": [
    {
     "data": {
      "text/plain": [
       "[4, 5, 6]"
      ]
     },
     "execution_count": 37,
     "metadata": {},
     "output_type": "execute_result"
    }
   ],
   "source": [
    "list(pd.RangeIndex(start=4, stop=7, step=1))"
   ]
  },
  {
   "cell_type": "code",
   "execution_count": 38,
   "id": "08c63314-1ec5-4989-a74e-271e6daa5e93",
   "metadata": {},
   "outputs": [
    {
     "data": {
      "text/plain": [
       "[10, 12, 14, 16, 18]"
      ]
     },
     "execution_count": 38,
     "metadata": {},
     "output_type": "execute_result"
    }
   ],
   "source": [
    "list(pd.RangeIndex(start=10, stop=20, step=2))"
   ]
  },
  {
   "cell_type": "code",
   "execution_count": 39,
   "id": "788c8ec2-ab31-444c-abef-113c26671c39",
   "metadata": {},
   "outputs": [
    {
     "data": {
      "text/plain": [
       "[10, 9, 8, 7, 6, 5, 4, 3, 2, 1, 0, -1, -2, -3, -4, -5, -6, -7, -8, -9, -10]"
      ]
     },
     "execution_count": 39,
     "metadata": {},
     "output_type": "execute_result"
    }
   ],
   "source": [
    "list(pd.RangeIndex(start=10, stop=-11, step=-1))"
   ]
  },
  {
   "cell_type": "markdown",
   "id": "09c18f60-114a-4d58-82ae-8be52ff2c139",
   "metadata": {},
   "source": [
    "## 16. Series and index names"
   ]
  },
  {
   "cell_type": "code",
   "execution_count": 40,
   "id": "52ec0431-bbf3-4c95-ad72-1b1fa630b8c5",
   "metadata": {},
   "outputs": [],
   "source": [
    "books_series = list_s"
   ]
  },
  {
   "cell_type": "code",
   "execution_count": 41,
   "id": "8e625005-2f4a-4845-9bf5-1b3210a44cfa",
   "metadata": {},
   "outputs": [
    {
     "data": {
      "text/plain": [
       "0                  Sapiens\n",
       "1            Martin Fierro\n",
       "2    Rebelion en la granja\n",
       "dtype: object"
      ]
     },
     "execution_count": 41,
     "metadata": {},
     "output_type": "execute_result"
    }
   ],
   "source": [
    "books_series"
   ]
  },
  {
   "cell_type": "code",
   "execution_count": 42,
   "id": "3edf7281-0c58-468a-8a97-04291ad84955",
   "metadata": {},
   "outputs": [
    {
     "data": {
      "text/plain": [
       "3"
      ]
     },
     "execution_count": 42,
     "metadata": {},
     "output_type": "execute_result"
    }
   ],
   "source": [
    "books_series.size"
   ]
  },
  {
   "cell_type": "code",
   "execution_count": 43,
   "id": "80eeaa5d-9926-4887-9a74-143f72e58580",
   "metadata": {},
   "outputs": [
    {
     "data": {
      "text/plain": [
       "True"
      ]
     },
     "execution_count": 43,
     "metadata": {},
     "output_type": "execute_result"
    }
   ],
   "source": [
    "books_series.name == None"
   ]
  },
  {
   "cell_type": "code",
   "execution_count": 44,
   "id": "9443a859-e1a7-44a7-85dd-6e312b642a76",
   "metadata": {},
   "outputs": [],
   "source": [
    "books_series.name = \"my favorite name\""
   ]
  },
  {
   "cell_type": "code",
   "execution_count": 45,
   "id": "109f85f7-a98c-4b30-8ff2-58d390d4a5ad",
   "metadata": {},
   "outputs": [
    {
     "data": {
      "text/plain": [
       "0                  Sapiens\n",
       "1            Martin Fierro\n",
       "2    Rebelion en la granja\n",
       "Name: my favorite name, dtype: object"
      ]
     },
     "execution_count": 45,
     "metadata": {},
     "output_type": "execute_result"
    }
   ],
   "source": [
    "books_series"
   ]
  },
  {
   "cell_type": "code",
   "execution_count": 46,
   "id": "d24ab571-65eb-4528-83e3-39288ab68ee5",
   "metadata": {},
   "outputs": [
    {
     "data": {
      "text/plain": [
       "True"
      ]
     },
     "execution_count": 46,
     "metadata": {},
     "output_type": "execute_result"
    }
   ],
   "source": [
    "books_series.index.name == None"
   ]
  },
  {
   "cell_type": "markdown",
   "id": "14fa42fb-a7a6-43c4-97c9-626c61e35457",
   "metadata": {},
   "source": [
    "## 17. Skill Challenge\n",
    "## 18. Solution"
   ]
  },
  {
   "cell_type": "code",
   "execution_count": 47,
   "id": "fcdc20a9-4803-443f-85d0-0f7d745934c6",
   "metadata": {},
   "outputs": [],
   "source": [
    "actor_names = ['Robert Deniro', 'Tom Cruise', 'Mel Gibson', 'Tom Hardy']\n",
    "actor_ages = [77, 50, 60,39]"
   ]
  },
  {
   "cell_type": "code",
   "execution_count": 48,
   "id": "1c7aa708-5226-4e13-8849-e639beec1b11",
   "metadata": {},
   "outputs": [],
   "source": [
    "actor_series = pd.Series(data=actor_ages, index=actor_names, name=\"actors\")"
   ]
  },
  {
   "cell_type": "code",
   "execution_count": 49,
   "id": "84680636-c7cc-4ab6-9737-490843ab5115",
   "metadata": {},
   "outputs": [
    {
     "data": {
      "text/plain": [
       "Robert Deniro    77\n",
       "Tom Cruise       50\n",
       "Mel Gibson       60\n",
       "Tom Hardy        39\n",
       "Name: actors, dtype: int64"
      ]
     },
     "execution_count": 49,
     "metadata": {},
     "output_type": "execute_result"
    }
   ],
   "source": [
    "actor_series"
   ]
  },
  {
   "cell_type": "code",
   "execution_count": 50,
   "id": "964adf6a-5d19-4ff0-bbd5-4a51d047525d",
   "metadata": {},
   "outputs": [
    {
     "data": {
      "text/plain": [
       "[('Robert Deniro', 77),\n",
       " ('Tom Cruise', 50),\n",
       " ('Mel Gibson', 60),\n",
       " ('Tom Hardy', 39)]"
      ]
     },
     "execution_count": 50,
     "metadata": {},
     "output_type": "execute_result"
    }
   ],
   "source": [
    "list(zip(actor_names, actor_ages))"
   ]
  },
  {
   "cell_type": "code",
   "execution_count": 51,
   "id": "2786be81-74be-4e54-b80e-1e431d14cf08",
   "metadata": {},
   "outputs": [
    {
     "data": {
      "text/plain": [
       "Robert Deniro    77\n",
       "Tom Cruise       50\n",
       "Mel Gibson       60\n",
       "dtype: int64"
      ]
     },
     "execution_count": 51,
     "metadata": {},
     "output_type": "execute_result"
    }
   ],
   "source": [
    "actor_dict = {'Robert Deniro':77, 'Tom Cruise':50, 'Mel Gibson':60}\n",
    "pd.Series(actor_dict)"
   ]
  },
  {
   "cell_type": "code",
   "execution_count": 52,
   "id": "583663c9-50d0-4f5d-88c1-2005de5c2f30",
   "metadata": {},
   "outputs": [
    {
     "data": {
      "text/plain": [
       "[('Robert Deniro', 77),\n",
       " ('Tom Cruise', 50),\n",
       " ('Mel Gibson', 60),\n",
       " ('Tom Hardy', 39)]"
      ]
     },
     "execution_count": 52,
     "metadata": {},
     "output_type": "execute_result"
    }
   ],
   "source": [
    "list(zip(actor_names, actor_ages))"
   ]
  },
  {
   "cell_type": "code",
   "execution_count": 53,
   "id": "baea0c78-7cd4-4024-ab1b-fcf08ada60d3",
   "metadata": {},
   "outputs": [
    {
     "data": {
      "text/plain": [
       "{'Robert Deniro': 77, 'Tom Cruise': 50, 'Mel Gibson': 60, 'Tom Hardy': 39}"
      ]
     },
     "execution_count": 53,
     "metadata": {},
     "output_type": "execute_result"
    }
   ],
   "source": [
    "dict(zip(actor_names, actor_ages))"
   ]
  },
  {
   "cell_type": "code",
   "execution_count": 54,
   "id": "85797224-db70-4e0f-b853-d7ea207453fd",
   "metadata": {},
   "outputs": [
    {
     "data": {
      "text/plain": [
       "Robert Deniro    77\n",
       "Tom Cruise       50\n",
       "Mel Gibson       60\n",
       "Tom Hardy        39\n",
       "dtype: int64"
      ]
     },
     "execution_count": 54,
     "metadata": {},
     "output_type": "execute_result"
    }
   ],
   "source": [
    "pd.Series(dict(zip(actor_names, actor_ages)))"
   ]
  },
  {
   "cell_type": "markdown",
   "id": "d421a935-3db3-4720-9bf1-583d119df1b6",
   "metadata": {},
   "source": [
    "## 19. Another solution"
   ]
  },
  {
   "cell_type": "code",
   "execution_count": 55,
   "id": "e210a364-73a6-4d36-9e42-2a44dd9b4992",
   "metadata": {},
   "outputs": [
    {
     "data": {
      "text/plain": [
       "{'Robert Deniro': 77, 'Tom Cruise': 50, 'Mel Gibson': 60, 'Tom Hardy': 39}"
      ]
     },
     "execution_count": 55,
     "metadata": {},
     "output_type": "execute_result"
    }
   ],
   "source": [
    "{name:age for name,age in zip(actor_names, actor_ages)}"
   ]
  },
  {
   "cell_type": "code",
   "execution_count": 56,
   "id": "ead823f9-3a29-4fc0-8392-5bd67b256778",
   "metadata": {},
   "outputs": [
    {
     "data": {
      "text/plain": [
       "Robert Deniro    77\n",
       "Tom Cruise       50\n",
       "Mel Gibson       60\n",
       "Tom Hardy        39\n",
       "dtype: int64"
      ]
     },
     "execution_count": 56,
     "metadata": {},
     "output_type": "execute_result"
    }
   ],
   "source": [
    "pd.Series({name:age for name,age in zip(actor_names, actor_ages)})"
   ]
  },
  {
   "cell_type": "markdown",
   "id": "44a1f267-fe42-4cf4-ae73-ae509c073c33",
   "metadata": {},
   "source": [
    "## 20. The head() and tail() methods"
   ]
  },
  {
   "cell_type": "code",
   "execution_count": 57,
   "id": "18e85edb-2aa5-44ff-996f-4b41205407a4",
   "metadata": {},
   "outputs": [
    {
     "data": {
      "text/plain": [
       "0      0\n",
       "1      1\n",
       "2      2\n",
       "3      3\n",
       "4      4\n",
       "5      5\n",
       "6      6\n",
       "7      7\n",
       "8      8\n",
       "9      9\n",
       "10    10\n",
       "11    11\n",
       "12    12\n",
       "13    13\n",
       "14    14\n",
       "15    15\n",
       "16    16\n",
       "17    17\n",
       "18    18\n",
       "19    19\n",
       "20    20\n",
       "21    21\n",
       "22    22\n",
       "23    23\n",
       "24    24\n",
       "25    25\n",
       "26    26\n",
       "27    27\n",
       "28    28\n",
       "29    29\n",
       "30    30\n",
       "31    31\n",
       "32    32\n",
       "33    33\n",
       "34    34\n",
       "35    35\n",
       "36    36\n",
       "37    37\n",
       "38    38\n",
       "39    39\n",
       "40    40\n",
       "41    41\n",
       "42    42\n",
       "43    43\n",
       "44    44\n",
       "45    45\n",
       "46    46\n",
       "47    47\n",
       "48    48\n",
       "49    49\n",
       "50    50\n",
       "51    51\n",
       "52    52\n",
       "53    53\n",
       "54    54\n",
       "55    55\n",
       "56    56\n",
       "57    57\n",
       "58    58\n",
       "59    59\n",
       "dtype: int64"
      ]
     },
     "execution_count": 57,
     "metadata": {},
     "output_type": "execute_result"
    }
   ],
   "source": [
    "int_series = pd.Series([i for i in range(60)])\n",
    "int_series"
   ]
  },
  {
   "cell_type": "code",
   "execution_count": 58,
   "id": "661e1cdf-583d-47ce-9210-411980c757e3",
   "metadata": {},
   "outputs": [
    {
     "data": {
      "text/plain": [
       "0      0\n",
       "1      1\n",
       "2      2\n",
       "3      3\n",
       "4      4\n",
       "5      5\n",
       "6      6\n",
       "7      7\n",
       "8      8\n",
       "9      9\n",
       "10    10\n",
       "11    11\n",
       "12    12\n",
       "13    13\n",
       "14    14\n",
       "15    15\n",
       "16    16\n",
       "17    17\n",
       "18    18\n",
       "19    19\n",
       "20    20\n",
       "21    21\n",
       "22    22\n",
       "23    23\n",
       "24    24\n",
       "25    25\n",
       "26    26\n",
       "27    27\n",
       "28    28\n",
       "29    29\n",
       "30    30\n",
       "31    31\n",
       "32    32\n",
       "33    33\n",
       "34    34\n",
       "35    35\n",
       "36    36\n",
       "37    37\n",
       "38    38\n",
       "39    39\n",
       "40    40\n",
       "41    41\n",
       "42    42\n",
       "43    43\n",
       "44    44\n",
       "45    45\n",
       "46    46\n",
       "47    47\n",
       "48    48\n",
       "49    49\n",
       "50    50\n",
       "51    51\n",
       "52    52\n",
       "53    53\n",
       "54    54\n",
       "55    55\n",
       "56    56\n",
       "57    57\n",
       "58    58\n",
       "59    59\n",
       "dtype: int64"
      ]
     },
     "execution_count": 58,
     "metadata": {},
     "output_type": "execute_result"
    }
   ],
   "source": [
    "int_series = pd.Series(range(60))\n",
    "int_series"
   ]
  },
  {
   "cell_type": "code",
   "execution_count": 59,
   "id": "67328dc7-0e5c-4eda-b827-2759ae298841",
   "metadata": {},
   "outputs": [
    {
     "data": {
      "text/plain": [
       "60"
      ]
     },
     "execution_count": 59,
     "metadata": {},
     "output_type": "execute_result"
    }
   ],
   "source": [
    "int_series.size"
   ]
  },
  {
   "cell_type": "code",
   "execution_count": 60,
   "id": "a3185475-7c7a-469e-b7b0-47836a427123",
   "metadata": {},
   "outputs": [
    {
     "data": {
      "text/plain": [
       "60"
      ]
     },
     "execution_count": 60,
     "metadata": {},
     "output_type": "execute_result"
    }
   ],
   "source": [
    "len(int_series)"
   ]
  },
  {
   "cell_type": "code",
   "execution_count": 61,
   "id": "7f06540b-dbed-46e4-b7af-5cc0a92f662f",
   "metadata": {},
   "outputs": [
    {
     "data": {
      "text/plain": [
       "0    0\n",
       "1    1\n",
       "2    2\n",
       "3    3\n",
       "4    4\n",
       "dtype: int64"
      ]
     },
     "execution_count": 61,
     "metadata": {},
     "output_type": "execute_result"
    }
   ],
   "source": [
    "int_series.head()"
   ]
  },
  {
   "cell_type": "code",
   "execution_count": 62,
   "id": "a8a1b883-2b42-4e5c-a2e9-cefd08f7b529",
   "metadata": {},
   "outputs": [
    {
     "data": {
      "text/plain": [
       "0    0\n",
       "1    1\n",
       "2    2\n",
       "dtype: int64"
      ]
     },
     "execution_count": 62,
     "metadata": {},
     "output_type": "execute_result"
    }
   ],
   "source": [
    "int_series.head(n=3)"
   ]
  },
  {
   "cell_type": "code",
   "execution_count": 63,
   "id": "3cbf61d7-670d-4eb6-92f9-70efe3829d16",
   "metadata": {},
   "outputs": [
    {
     "data": {
      "text/plain": [
       "55    55\n",
       "56    56\n",
       "57    57\n",
       "58    58\n",
       "59    59\n",
       "dtype: int64"
      ]
     },
     "execution_count": 63,
     "metadata": {},
     "output_type": "execute_result"
    }
   ],
   "source": [
    "int_series.tail()"
   ]
  },
  {
   "cell_type": "code",
   "execution_count": 64,
   "id": "fd189bca-2232-44ac-8be9-d8c5db7508e7",
   "metadata": {},
   "outputs": [
    {
     "data": {
      "text/plain": [
       "57    57\n",
       "58    58\n",
       "59    59\n",
       "dtype: int64"
      ]
     },
     "execution_count": 64,
     "metadata": {},
     "output_type": "execute_result"
    }
   ],
   "source": [
    "int_series.tail(n=3)"
   ]
  },
  {
   "cell_type": "code",
   "execution_count": 65,
   "id": "d7fd319a-904a-4f3e-b1b3-b37a74a93e78",
   "metadata": {},
   "outputs": [
    {
     "data": {
      "text/plain": [
       "0      0\n",
       "1      1\n",
       "2      2\n",
       "3      3\n",
       "4      4\n",
       "      ..\n",
       "95    95\n",
       "96    96\n",
       "97    97\n",
       "98    98\n",
       "99    99\n",
       "Length: 100, dtype: int64"
      ]
     },
     "execution_count": 65,
     "metadata": {},
     "output_type": "execute_result"
    }
   ],
   "source": [
    "pd.Series(range(100))"
   ]
  },
  {
   "cell_type": "code",
   "execution_count": 66,
   "id": "0dcd7f16-b711-4e78-b562-458d83883e46",
   "metadata": {},
   "outputs": [],
   "source": [
    "# pd.options.display.min_rows=40"
   ]
  },
  {
   "cell_type": "markdown",
   "id": "9398c351-e400-467e-88fb-832c0cfdafeb",
   "metadata": {},
   "source": [
    "## 21. Extracting by index position"
   ]
  },
  {
   "cell_type": "code",
   "execution_count": 67,
   "id": "97f6984b-e321-4684-9915-2ebee40b1d03",
   "metadata": {},
   "outputs": [],
   "source": [
    "from string import ascii_lowercase"
   ]
  },
  {
   "cell_type": "code",
   "execution_count": 68,
   "id": "8881e6dd-de32-45a0-adcd-6dcf8afa1c31",
   "metadata": {},
   "outputs": [
    {
     "data": {
      "text/plain": [
       "'abcdefghijklmnopqrstuvwxyz'"
      ]
     },
     "execution_count": 68,
     "metadata": {},
     "output_type": "execute_result"
    }
   ],
   "source": [
    "ascii_lowercase"
   ]
  },
  {
   "cell_type": "code",
   "execution_count": 69,
   "id": "49aa2fb0-17c3-469c-816d-ae052b2f7bf0",
   "metadata": {},
   "outputs": [
    {
     "data": {
      "text/plain": [
       "0    abcdefghijklmnopqrstuvwxyz\n",
       "dtype: object"
      ]
     },
     "execution_count": 69,
     "metadata": {},
     "output_type": "execute_result"
    }
   ],
   "source": [
    "pd.Series(ascii_lowercase)"
   ]
  },
  {
   "cell_type": "code",
   "execution_count": 70,
   "id": "67cc48e0-a21c-4848-9707-1528e9c2360c",
   "metadata": {},
   "outputs": [
    {
     "data": {
      "text/plain": [
       "['a',\n",
       " 'b',\n",
       " 'c',\n",
       " 'd',\n",
       " 'e',\n",
       " 'f',\n",
       " 'g',\n",
       " 'h',\n",
       " 'i',\n",
       " 'j',\n",
       " 'k',\n",
       " 'l',\n",
       " 'm',\n",
       " 'n',\n",
       " 'o',\n",
       " 'p',\n",
       " 'q',\n",
       " 'r',\n",
       " 's',\n",
       " 't',\n",
       " 'u',\n",
       " 'v',\n",
       " 'w',\n",
       " 'x',\n",
       " 'y',\n",
       " 'z']"
      ]
     },
     "execution_count": 70,
     "metadata": {},
     "output_type": "execute_result"
    }
   ],
   "source": [
    "list(ascii_lowercase)"
   ]
  },
  {
   "cell_type": "code",
   "execution_count": 71,
   "id": "e6156476-a422-4276-9c27-60d742bdea01",
   "metadata": {},
   "outputs": [
    {
     "data": {
      "text/plain": [
       "26"
      ]
     },
     "execution_count": 71,
     "metadata": {},
     "output_type": "execute_result"
    }
   ],
   "source": [
    "len(list(ascii_lowercase))"
   ]
  },
  {
   "cell_type": "code",
   "execution_count": 72,
   "id": "f7d80d3a-4bb1-4157-be18-16247a1f0243",
   "metadata": {},
   "outputs": [],
   "source": [
    "letters = list(ascii_lowercase)"
   ]
  },
  {
   "cell_type": "code",
   "execution_count": 73,
   "id": "1d58a2a1-eb76-4cb2-80c1-d2a8d46b0c65",
   "metadata": {},
   "outputs": [
    {
     "data": {
      "text/plain": [
       "0    a\n",
       "1    b\n",
       "2    c\n",
       "3    d\n",
       "4    e\n",
       "dtype: object"
      ]
     },
     "execution_count": 73,
     "metadata": {},
     "output_type": "execute_result"
    }
   ],
   "source": [
    "alphabet = pd.Series(letters)\n",
    "alphabet.head()"
   ]
  },
  {
   "cell_type": "code",
   "execution_count": 74,
   "id": "35238f5c-c6bd-4dbe-b6c1-85053fea0673",
   "metadata": {},
   "outputs": [
    {
     "data": {
      "text/plain": [
       "'a'"
      ]
     },
     "execution_count": 74,
     "metadata": {},
     "output_type": "execute_result"
    }
   ],
   "source": [
    "alphabet[0]"
   ]
  },
  {
   "cell_type": "code",
   "execution_count": 75,
   "id": "a4b75222-4503-4084-8786-97b9b067d794",
   "metadata": {},
   "outputs": [
    {
     "data": {
      "text/plain": [
       "'k'"
      ]
     },
     "execution_count": 75,
     "metadata": {},
     "output_type": "execute_result"
    }
   ],
   "source": [
    "alphabet[10]"
   ]
  },
  {
   "cell_type": "code",
   "execution_count": 76,
   "id": "e6de1b75-86c7-4d9a-89d8-2eb285d6f88b",
   "metadata": {},
   "outputs": [
    {
     "data": {
      "text/plain": [
       "0    a\n",
       "1    b\n",
       "2    c\n",
       "3    d\n",
       "dtype: object"
      ]
     },
     "execution_count": 76,
     "metadata": {},
     "output_type": "execute_result"
    }
   ],
   "source": [
    "alphabet[:4]"
   ]
  },
  {
   "cell_type": "code",
   "execution_count": 77,
   "id": "85ec0ca1-51d4-4b25-a2e4-ef3477f23b3f",
   "metadata": {},
   "outputs": [
    {
     "data": {
      "text/plain": [
       "0    a\n",
       "1    b\n",
       "2    c\n",
       "3    d\n",
       "dtype: object"
      ]
     },
     "execution_count": 77,
     "metadata": {},
     "output_type": "execute_result"
    }
   ],
   "source": [
    "alphabet[0:4]"
   ]
  },
  {
   "cell_type": "code",
   "execution_count": 78,
   "id": "a1e44e7c-507c-4ac2-84a0-4374f134791d",
   "metadata": {},
   "outputs": [
    {
     "data": {
      "text/plain": [
       "5    f\n",
       "6    g\n",
       "7    h\n",
       "8    i\n",
       "9    j\n",
       "dtype: object"
      ]
     },
     "execution_count": 78,
     "metadata": {},
     "output_type": "execute_result"
    }
   ],
   "source": [
    "alphabet[5:10]"
   ]
  },
  {
   "cell_type": "markdown",
   "id": "b40c3000-3768-4f4b-ae8e-555a780603e6",
   "metadata": {},
   "source": [
    "## 22. Accessing elements by label "
   ]
  },
  {
   "cell_type": "code",
   "execution_count": 79,
   "id": "73573c98-88fb-4f0f-87cc-59c4cb301636",
   "metadata": {},
   "outputs": [],
   "source": [
    "from string import ascii_uppercase"
   ]
  },
  {
   "cell_type": "code",
   "execution_count": 80,
   "id": "2773bf85-b3a8-4613-8160-22bd79a4dddc",
   "metadata": {},
   "outputs": [
    {
     "data": {
      "text/plain": [
       "'ABCDEFGHIJKLMNOPQRSTUVWXYZ'"
      ]
     },
     "execution_count": 80,
     "metadata": {},
     "output_type": "execute_result"
    }
   ],
   "source": [
    "ascii_uppercase"
   ]
  },
  {
   "cell_type": "code",
   "execution_count": 81,
   "id": "976b63e7-9fb8-41b2-98c6-efd67afe40bd",
   "metadata": {},
   "outputs": [
    {
     "data": {
      "text/plain": [
       "label_A    a\n",
       "label_B    b\n",
       "label_C    c\n",
       "label_D    d\n",
       "label_E    e\n",
       "label_F    f\n",
       "label_G    g\n",
       "label_H    h\n",
       "label_I    i\n",
       "label_J    j\n",
       "label_K    k\n",
       "label_L    l\n",
       "label_M    m\n",
       "label_N    n\n",
       "label_O    o\n",
       "label_P    p\n",
       "label_Q    q\n",
       "label_R    r\n",
       "label_S    s\n",
       "label_T    t\n",
       "label_U    u\n",
       "label_V    v\n",
       "label_W    w\n",
       "label_X    x\n",
       "label_Y    y\n",
       "label_Z    z\n",
       "dtype: object"
      ]
     },
     "execution_count": 81,
     "metadata": {},
     "output_type": "execute_result"
    }
   ],
   "source": [
    "labeled_alphabet = pd.Series(data=list(ascii_lowercase), index=map(lambda x: 'label_' + x, list(ascii_uppercase)))\n",
    "labeled_alphabet"
   ]
  },
  {
   "cell_type": "code",
   "execution_count": 82,
   "id": "4187bffd-b374-4893-a4a1-93830f60d926",
   "metadata": {},
   "outputs": [
    {
     "name": "stderr",
     "output_type": "stream",
     "text": [
      "C:\\Users\\nacho\\AppData\\Local\\Temp\\ipykernel_4780\\2796743906.py:1: FutureWarning: Series.__getitem__ treating keys as positions is deprecated. In a future version, integer keys will always be treated as labels (consistent with DataFrame behavior). To access a value by position, use `ser.iloc[pos]`\n",
      "  labeled_alphabet[0]\n"
     ]
    },
    {
     "data": {
      "text/plain": [
       "'a'"
      ]
     },
     "execution_count": 82,
     "metadata": {},
     "output_type": "execute_result"
    }
   ],
   "source": [
    "labeled_alphabet[0]"
   ]
  },
  {
   "cell_type": "code",
   "execution_count": 83,
   "id": "29395af1-13bd-4d4f-a714-255c8e0b04ff",
   "metadata": {},
   "outputs": [
    {
     "data": {
      "text/plain": [
       "'a'"
      ]
     },
     "execution_count": 83,
     "metadata": {},
     "output_type": "execute_result"
    }
   ],
   "source": [
    "labeled_alphabet['label_A']"
   ]
  },
  {
   "cell_type": "code",
   "execution_count": 84,
   "id": "adba358f-1ff5-4bd4-88ed-3fccfcfc475d",
   "metadata": {},
   "outputs": [
    {
     "name": "stderr",
     "output_type": "stream",
     "text": [
      "C:\\Users\\nacho\\AppData\\Local\\Temp\\ipykernel_4780\\1253963352.py:1: FutureWarning: Series.__getitem__ treating keys as positions is deprecated. In a future version, integer keys will always be treated as labels (consistent with DataFrame behavior). To access a value by position, use `ser.iloc[pos]`\n",
      "  labeled_alphabet[10]\n"
     ]
    },
    {
     "data": {
      "text/plain": [
       "'k'"
      ]
     },
     "execution_count": 84,
     "metadata": {},
     "output_type": "execute_result"
    }
   ],
   "source": [
    "labeled_alphabet[10]"
   ]
  },
  {
   "cell_type": "code",
   "execution_count": 85,
   "id": "38d722c9-0443-4411-b84a-828d48132fc3",
   "metadata": {},
   "outputs": [
    {
     "data": {
      "text/plain": [
       "'k'"
      ]
     },
     "execution_count": 85,
     "metadata": {},
     "output_type": "execute_result"
    }
   ],
   "source": [
    "labeled_alphabet['label_K']"
   ]
  },
  {
   "cell_type": "code",
   "execution_count": 86,
   "id": "718ff896-7176-44e8-8bcc-5129a7d613bb",
   "metadata": {},
   "outputs": [
    {
     "data": {
      "text/plain": [
       "label_A    a\n",
       "label_B    b\n",
       "label_C    c\n",
       "dtype: object"
      ]
     },
     "execution_count": 86,
     "metadata": {},
     "output_type": "execute_result"
    }
   ],
   "source": [
    "labeled_alphabet[:'label_C']"
   ]
  },
  {
   "cell_type": "code",
   "execution_count": 87,
   "id": "234a7bc2-f93d-4a44-b2c2-78273224cb1a",
   "metadata": {},
   "outputs": [
    {
     "data": {
      "text/plain": [
       "label_F    f\n",
       "label_G    g\n",
       "label_H    h\n",
       "label_I    i\n",
       "label_J    j\n",
       "label_K    k\n",
       "label_L    l\n",
       "dtype: object"
      ]
     },
     "execution_count": 87,
     "metadata": {},
     "output_type": "execute_result"
    }
   ],
   "source": [
    "labeled_alphabet['label_F':'label_L']"
   ]
  },
  {
   "cell_type": "code",
   "execution_count": 88,
   "id": "3149f84b-bb9d-496a-93d0-e06616277530",
   "metadata": {},
   "outputs": [
    {
     "data": {
      "text/plain": [
       "label_U    u\n",
       "label_V    v\n",
       "label_W    w\n",
       "label_X    x\n",
       "label_Y    y\n",
       "label_Z    z\n",
       "dtype: object"
      ]
     },
     "execution_count": 88,
     "metadata": {},
     "output_type": "execute_result"
    }
   ],
   "source": [
    "labeled_alphabet[-6:]"
   ]
  },
  {
   "cell_type": "code",
   "execution_count": 89,
   "id": "9e82533c-a692-468f-9432-678869d6d7d1",
   "metadata": {},
   "outputs": [
    {
     "data": {
      "text/plain": [
       "label_U    u\n",
       "label_V    v\n",
       "label_W    w\n",
       "label_X    x\n",
       "label_Y    y\n",
       "label_Z    z\n",
       "dtype: object"
      ]
     },
     "execution_count": 89,
     "metadata": {},
     "output_type": "execute_result"
    }
   ],
   "source": [
    "labeled_alphabet['label_U':]"
   ]
  },
  {
   "cell_type": "markdown",
   "id": "167bbc7a-e3be-414f-b112-517fa51afd8d",
   "metadata": {},
   "source": [
    "## 23. BONUS: the add_prefix() and add_subfix() methods"
   ]
  },
  {
   "cell_type": "code",
   "execution_count": 90,
   "id": "c2f79ec9-caab-4834-ba79-2d1ba85584d6",
   "metadata": {},
   "outputs": [
    {
     "data": {
      "text/plain": [
       "0    a\n",
       "1    b\n",
       "2    c\n",
       "3    d\n",
       "4    e\n",
       "dtype: object"
      ]
     },
     "execution_count": 90,
     "metadata": {},
     "output_type": "execute_result"
    }
   ],
   "source": [
    "alphabet.head()"
   ]
  },
  {
   "cell_type": "code",
   "execution_count": 91,
   "id": "32877fbc-8ed2-4df3-ae60-acf7ba024949",
   "metadata": {},
   "outputs": [
    {
     "data": {
      "text/plain": [
       "label_0     a\n",
       "label_1     b\n",
       "label_2     c\n",
       "label_3     d\n",
       "label_4     e\n",
       "label_5     f\n",
       "label_6     g\n",
       "label_7     h\n",
       "label_8     i\n",
       "label_9     j\n",
       "label_10    k\n",
       "label_11    l\n",
       "label_12    m\n",
       "label_13    n\n",
       "label_14    o\n",
       "label_15    p\n",
       "label_16    q\n",
       "label_17    r\n",
       "label_18    s\n",
       "label_19    t\n",
       "label_20    u\n",
       "label_21    v\n",
       "label_22    w\n",
       "label_23    x\n",
       "label_24    y\n",
       "label_25    z\n",
       "dtype: object"
      ]
     },
     "execution_count": 91,
     "metadata": {},
     "output_type": "execute_result"
    }
   ],
   "source": [
    "alphabet.add_prefix('label_')"
   ]
  },
  {
   "cell_type": "code",
   "execution_count": 92,
   "id": "838ac3d8-9fcc-4f95-9c9a-c00ce96b5492",
   "metadata": {},
   "outputs": [
    {
     "data": {
      "text/plain": [
       "0_ending     a\n",
       "1_ending     b\n",
       "2_ending     c\n",
       "3_ending     d\n",
       "4_ending     e\n",
       "5_ending     f\n",
       "6_ending     g\n",
       "7_ending     h\n",
       "8_ending     i\n",
       "9_ending     j\n",
       "10_ending    k\n",
       "11_ending    l\n",
       "12_ending    m\n",
       "13_ending    n\n",
       "14_ending    o\n",
       "15_ending    p\n",
       "16_ending    q\n",
       "17_ending    r\n",
       "18_ending    s\n",
       "19_ending    t\n",
       "20_ending    u\n",
       "21_ending    v\n",
       "22_ending    w\n",
       "23_ending    x\n",
       "24_ending    y\n",
       "25_ending    z\n",
       "dtype: object"
      ]
     },
     "execution_count": 92,
     "metadata": {},
     "output_type": "execute_result"
    }
   ],
   "source": [
    "alphabet.add_suffix('_ending')"
   ]
  },
  {
   "cell_type": "markdown",
   "id": "04ac6113-7ed8-4830-a9b2-26574da2c7b1",
   "metadata": {},
   "source": [
    "## 24. Using dot notation"
   ]
  },
  {
   "cell_type": "code",
   "execution_count": 93,
   "id": "cf84bac3-b9ae-4d99-bac6-7b1ef6997727",
   "metadata": {},
   "outputs": [
    {
     "data": {
      "text/plain": [
       "'v'"
      ]
     },
     "execution_count": 93,
     "metadata": {},
     "output_type": "execute_result"
    }
   ],
   "source": [
    "labeled_alphabet['label_V']"
   ]
  },
  {
   "cell_type": "code",
   "execution_count": 94,
   "id": "5ce3da35-c1c7-4896-8fae-a36ddce9f925",
   "metadata": {},
   "outputs": [
    {
     "data": {
      "text/plain": [
       "'v'"
      ]
     },
     "execution_count": 94,
     "metadata": {},
     "output_type": "execute_result"
    }
   ],
   "source": [
    "labeled_alphabet.label_V"
   ]
  },
  {
   "cell_type": "code",
   "execution_count": 95,
   "id": "dc1f7790-7741-488f-a4dc-45d575de082b",
   "metadata": {},
   "outputs": [
    {
     "data": {
      "text/plain": [
       "label_J    j\n",
       "label_K    k\n",
       "label_L    l\n",
       "label_M    m\n",
       "label_N    n\n",
       "label_O    o\n",
       "label_P    p\n",
       "label_Q    q\n",
       "label_R    r\n",
       "label_S    s\n",
       "label_T    t\n",
       "label_U    u\n",
       "label_V    v\n",
       "label_W    w\n",
       "label_X    x\n",
       "dtype: object"
      ]
     },
     "execution_count": 95,
     "metadata": {},
     "output_type": "execute_result"
    }
   ],
   "source": [
    "labeled_alphabet['label_J':'label_X']"
   ]
  },
  {
   "cell_type": "markdown",
   "id": "0cef7724-7357-4e9f-86b9-0cb2f2a36cac",
   "metadata": {},
   "source": [
    "## 25. Boolean Masks And The .loc Indexer"
   ]
  },
  {
   "cell_type": "code",
   "execution_count": 99,
   "id": "d34cfda4-2f1d-4d1c-8da2-f01a3bd86ce8",
   "metadata": {},
   "outputs": [
    {
     "data": {
      "text/plain": [
       "label_F    f\n",
       "label_G    g\n",
       "label_H    h\n",
       "label_I    i\n",
       "label_J    j\n",
       "dtype: object"
      ]
     },
     "execution_count": 99,
     "metadata": {},
     "output_type": "execute_result"
    }
   ],
   "source": [
    "labeled_alphabet['label_F':'label_J'] #slower than .loc"
   ]
  },
  {
   "cell_type": "code",
   "execution_count": 100,
   "id": "f18cc363-0d17-4f63-962d-1ccde8bc9d19",
   "metadata": {},
   "outputs": [
    {
     "data": {
      "text/plain": [
       "label_F    f\n",
       "label_G    g\n",
       "label_H    h\n",
       "label_I    i\n",
       "label_J    j\n",
       "dtype: object"
      ]
     },
     "execution_count": 100,
     "metadata": {},
     "output_type": "execute_result"
    }
   ],
   "source": [
    "#loc\n",
    "\n",
    "labeled_alphabet.loc['label_F':'label_J']"
   ]
  },
  {
   "cell_type": "code",
   "execution_count": 102,
   "id": "7f2f7d60-ed50-4bb5-a20a-82460afabe94",
   "metadata": {},
   "outputs": [
    {
     "data": {
      "text/plain": [
       "0                  Sapiens\n",
       "1            Martin Fierro\n",
       "2    Rebelion en la granja\n",
       "Name: my favorite name, dtype: object"
      ]
     },
     "execution_count": 102,
     "metadata": {},
     "output_type": "execute_result"
    }
   ],
   "source": [
    "books_series.loc[[True,True,True]]"
   ]
  },
  {
   "cell_type": "code",
   "execution_count": 103,
   "id": "b6fba25e-a9c9-42da-b232-7d8e26dfde76",
   "metadata": {},
   "outputs": [
    {
     "data": {
      "text/plain": [
       "0                  Sapiens\n",
       "2    Rebelion en la granja\n",
       "Name: my favorite name, dtype: object"
      ]
     },
     "execution_count": 103,
     "metadata": {},
     "output_type": "execute_result"
    }
   ],
   "source": [
    "books_series.loc[[True,False,True]]"
   ]
  },
  {
   "cell_type": "code",
   "execution_count": 104,
   "id": "4695be02-858e-469d-b791-37c90df2f579",
   "metadata": {},
   "outputs": [
    {
     "data": {
      "text/plain": [
       "26"
      ]
     },
     "execution_count": 104,
     "metadata": {},
     "output_type": "execute_result"
    }
   ],
   "source": [
    "labeled_alphabet.size"
   ]
  },
  {
   "cell_type": "code",
   "execution_count": 105,
   "id": "d596f8c9-e079-45ef-bb02-e6f94d875f56",
   "metadata": {},
   "outputs": [
    {
     "data": {
      "text/plain": [
       "label_A    a\n",
       "label_B    b\n",
       "label_C    c\n",
       "label_D    d\n",
       "label_E    e\n",
       "label_F    f\n",
       "label_G    g\n",
       "label_H    h\n",
       "label_I    i\n",
       "label_J    j\n",
       "label_K    k\n",
       "label_L    l\n",
       "label_M    m\n",
       "label_N    n\n",
       "label_O    o\n",
       "label_P    p\n",
       "label_Q    q\n",
       "label_R    r\n",
       "label_S    s\n",
       "label_T    t\n",
       "label_U    u\n",
       "label_V    v\n",
       "label_W    w\n",
       "label_X    x\n",
       "label_Y    y\n",
       "label_Z    z\n",
       "dtype: object"
      ]
     },
     "execution_count": 105,
     "metadata": {},
     "output_type": "execute_result"
    }
   ],
   "source": [
    "labeled_alphabet.loc[[True for i in range(26)]]"
   ]
  },
  {
   "cell_type": "code",
   "execution_count": 106,
   "id": "1058d422-a4c0-46d4-8021-7ee2889c7c62",
   "metadata": {},
   "outputs": [
    {
     "data": {
      "text/plain": [
       "label_A    a\n",
       "label_C    c\n",
       "label_E    e\n",
       "label_G    g\n",
       "label_I    i\n",
       "label_K    k\n",
       "label_M    m\n",
       "label_O    o\n",
       "label_Q    q\n",
       "label_S    s\n",
       "label_U    u\n",
       "label_W    w\n",
       "label_Y    y\n",
       "dtype: object"
      ]
     },
     "execution_count": 106,
     "metadata": {},
     "output_type": "execute_result"
    }
   ],
   "source": [
    "labeled_alphabet.loc[[True if i%2==0 else False for i in range(26)]]"
   ]
  },
  {
   "cell_type": "markdown",
   "id": "93638473-342c-4164-a6d8-9741b46e9e90",
   "metadata": {},
   "source": [
    "## 26. Extracting By Position With .iloc"
   ]
  },
  {
   "cell_type": "code",
   "execution_count": 108,
   "id": "061c0177-b239-43d5-a98b-a066962640b0",
   "metadata": {},
   "outputs": [],
   "source": [
    "# integer loc = iloc, indexing by position\n",
    "# loc = location by label"
   ]
  },
  {
   "cell_type": "code",
   "execution_count": 109,
   "id": "10247845-eee4-40f1-8b40-5543ad2b5067",
   "metadata": {},
   "outputs": [
    {
     "data": {
      "text/plain": [
       "'a'"
      ]
     },
     "execution_count": 109,
     "metadata": {},
     "output_type": "execute_result"
    }
   ],
   "source": [
    "labeled_alphabet.iloc[0]"
   ]
  },
  {
   "cell_type": "code",
   "execution_count": 110,
   "id": "45c1758e-58ce-4e9b-aabe-b09317ea101d",
   "metadata": {},
   "outputs": [
    {
     "data": {
      "text/plain": [
       "'b'"
      ]
     },
     "execution_count": 110,
     "metadata": {},
     "output_type": "execute_result"
    }
   ],
   "source": [
    "labeled_alphabet.iloc[1]"
   ]
  },
  {
   "cell_type": "code",
   "execution_count": 111,
   "id": "f306efe7-51e4-4da8-aa59-cf730477987e",
   "metadata": {},
   "outputs": [
    {
     "data": {
      "text/plain": [
       "label_B    b\n",
       "label_C    c\n",
       "dtype: object"
      ]
     },
     "execution_count": 111,
     "metadata": {},
     "output_type": "execute_result"
    }
   ],
   "source": [
    "labeled_alphabet.iloc[1:3]"
   ]
  },
  {
   "cell_type": "code",
   "execution_count": 112,
   "id": "29c10382-99be-464c-b8fa-16d836fefc5f",
   "metadata": {},
   "outputs": [
    {
     "data": {
      "text/plain": [
       "label_C    c\n",
       "label_E    e\n",
       "label_K    k\n",
       "dtype: object"
      ]
     },
     "execution_count": 112,
     "metadata": {},
     "output_type": "execute_result"
    }
   ],
   "source": [
    "labeled_alphabet.iloc[[2,4,10]]"
   ]
  },
  {
   "cell_type": "markdown",
   "id": "c2f59c57-be64-447c-ac9a-01e9db27773a",
   "metadata": {},
   "source": [
    "## 28. Selecting With .get()"
   ]
  },
  {
   "cell_type": "code",
   "execution_count": 113,
   "id": "2d313424-62cb-4c94-9e54-c1d55553a94f",
   "metadata": {},
   "outputs": [
    {
     "data": {
      "text/plain": [
       "'f'"
      ]
     },
     "execution_count": 113,
     "metadata": {},
     "output_type": "execute_result"
    }
   ],
   "source": [
    "labeled_alphabet.get('label_F')"
   ]
  },
  {
   "cell_type": "code",
   "execution_count": 116,
   "id": "f8d46a3f-e9fd-4c44-8441-b2a3b1aa77a8",
   "metadata": {},
   "outputs": [
    {
     "data": {
      "text/plain": [
       "'f'"
      ]
     },
     "execution_count": 116,
     "metadata": {},
     "output_type": "execute_result"
    }
   ],
   "source": [
    "labeled_alphabet.loc['label_F']"
   ]
  },
  {
   "cell_type": "code",
   "execution_count": 118,
   "id": "65f0a9f5-6634-4870-9594-9c4f1ff3f02f",
   "metadata": {},
   "outputs": [
    {
     "data": {
      "text/plain": [
       "'f'"
      ]
     },
     "execution_count": 118,
     "metadata": {},
     "output_type": "execute_result"
    }
   ],
   "source": [
    "labeled_alphabet['label_F']"
   ]
  },
  {
   "cell_type": "code",
   "execution_count": 119,
   "id": "9ff566be-51ba-485d-ae5a-b5cf95a2ca41",
   "metadata": {},
   "outputs": [],
   "source": [
    "labeled_alphabet.get('label_Inexistent')"
   ]
  },
  {
   "cell_type": "code",
   "execution_count": 120,
   "id": "63da4b27-d074-40ce-bb89-eb3eef0ca470",
   "metadata": {},
   "outputs": [
    {
     "data": {
      "text/plain": [
       "True"
      ]
     },
     "execution_count": 120,
     "metadata": {},
     "output_type": "execute_result"
    }
   ],
   "source": [
    "labeled_alphabet.get('label_Inexistent') == None"
   ]
  },
  {
   "cell_type": "code",
   "execution_count": 123,
   "id": "7ded67ad-d960-4445-a43e-756e17e98ba3",
   "metadata": {},
   "outputs": [
    {
     "data": {
      "text/plain": [
       "'Not finded'"
      ]
     },
     "execution_count": 123,
     "metadata": {},
     "output_type": "execute_result"
    }
   ],
   "source": [
    "labeled_alphabet.get('label_Inexistent', default='Not finded')"
   ]
  },
  {
   "cell_type": "code",
   "execution_count": 124,
   "id": "d90b5292-e728-49f5-8206-897cbb5ab742",
   "metadata": {},
   "outputs": [
    {
     "data": {
      "text/plain": [
       "0"
      ]
     },
     "execution_count": 124,
     "metadata": {},
     "output_type": "execute_result"
    }
   ],
   "source": [
    "labeled_alphabet.get('label_Inexistent', default=0)"
   ]
  },
  {
   "cell_type": "code",
   "execution_count": 125,
   "id": "1ecf23bc-c408-4a7f-93a4-a8fa2a2a11ba",
   "metadata": {},
   "outputs": [
    {
     "data": {
      "text/plain": [
       "{0: 1}"
      ]
     },
     "execution_count": 125,
     "metadata": {},
     "output_type": "execute_result"
    }
   ],
   "source": [
    "labeled_alphabet.get('label_Inexistent', default={0:1})"
   ]
  },
  {
   "cell_type": "markdown",
   "id": "11fe6c5f-7205-4172-8729-3c897ae8c000",
   "metadata": {},
   "source": [
    "## 30. Skill Challenge"
   ]
  },
  {
   "cell_type": "markdown",
   "id": "3f47ff06-4641-4d9e-80d5-4b31a5221e58",
   "metadata": {},
   "source": [
    "## 31. Solution"
   ]
  },
  {
   "cell_type": "code",
   "execution_count": 133,
   "id": "71a3fba5-6da6-4c7d-a163-4e839f65e4f6",
   "metadata": {},
   "outputs": [
    {
     "data": {
      "text/plain": [
       "0        0\n",
       "1        1\n",
       "2        4\n",
       "3        9\n",
       "4       16\n",
       "      ... \n",
       "95    9025\n",
       "96    9216\n",
       "97    9409\n",
       "98    9604\n",
       "99    9801\n",
       "Length: 100, dtype: int64"
      ]
     },
     "execution_count": 133,
     "metadata": {},
     "output_type": "execute_result"
    }
   ],
   "source": [
    "squares = pd.Series([i ** 2 for i in range(100)])\n",
    "squares"
   ]
  },
  {
   "cell_type": "code",
   "execution_count": 140,
   "id": "cf447f09-1310-4834-ab6b-b1c75487c72a",
   "metadata": {},
   "outputs": [
    {
     "data": {
      "text/plain": [
       "97    9409\n",
       "98    9604\n",
       "99    9801\n",
       "dtype: int64"
      ]
     },
     "execution_count": 140,
     "metadata": {},
     "output_type": "execute_result"
    }
   ],
   "source": [
    "squares[-3:]"
   ]
  },
  {
   "cell_type": "code",
   "execution_count": 134,
   "id": "827b4007-e2f9-4c0a-8a17-59d3f9f8382b",
   "metadata": {},
   "outputs": [
    {
     "data": {
      "text/plain": [
       "97    9409\n",
       "98    9604\n",
       "99    9801\n",
       "dtype: int64"
      ]
     },
     "execution_count": 134,
     "metadata": {},
     "output_type": "execute_result"
    }
   ],
   "source": [
    "squares.tail(3)"
   ]
  },
  {
   "cell_type": "code",
   "execution_count": 141,
   "id": "4293aa01-bc6c-4cae-af83-4cfac7b45dcd",
   "metadata": {},
   "outputs": [
    {
     "data": {
      "text/plain": [
       "True"
      ]
     },
     "execution_count": 141,
     "metadata": {},
     "output_type": "execute_result"
    }
   ],
   "source": [
    "squares[-3:].equals(squares.tail(3))"
   ]
  },
  {
   "cell_type": "code",
   "execution_count": null,
   "id": "9b963137-154a-408b-bd02-150719227e9a",
   "metadata": {},
   "outputs": [],
   "source": []
  }
 ],
 "metadata": {
  "kernelspec": {
   "display_name": "Python 3 (ipykernel)",
   "language": "python",
   "name": "python3"
  },
  "language_info": {
   "codemirror_mode": {
    "name": "ipython",
    "version": 3
   },
   "file_extension": ".py",
   "mimetype": "text/x-python",
   "name": "python",
   "nbconvert_exporter": "python",
   "pygments_lexer": "ipython3",
   "version": "3.12.7"
  }
 },
 "nbformat": 4,
 "nbformat_minor": 5
}
